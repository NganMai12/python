{
  "nbformat": 4,
  "nbformat_minor": 0,
  "metadata": {
    "colab": {
      "name": "Untitled7.ipynb",
      "provenance": []
    },
    "kernelspec": {
      "name": "python3",
      "display_name": "Python 3"
    }
  },
  "cells": [
    {
      "cell_type": "code",
      "metadata": {
        "id": "fknY5bM33VTs"
      },
      "source": [
        "#Importing Necessary Libraries\n",
        "#Preprocessing Libraries\n",
        "import pandas as pd\n",
        "from sklearn.model_selection import train_test_split\n",
        "from sklearn.metrics import precision_score, recall_score, confusion_matrix, classification_report, accuracy_score, f1_score\n",
        "\n",
        "#Feature Selection Libraries\n",
        "from sklearn.feature_selection import RFE\n",
        "from sklearn.linear_model import LogisticRegression\n",
        "\n",
        "# ML Libraries (Random Forest, Naive Bayes, SVM)\n",
        "from sklearn.ensemble import RandomForestClassifier, VotingClassifier\n",
        "from sklearn.naive_bayes import GaussianNB\n",
        "from sklearn.svm import SVC\n",
        " \n",
        "# Evaluation Metrics\n",
        "from yellowbrick.classifier import ClassificationReport\n",
        "from sklearn import metrics"
      ],
      "execution_count": 98,
      "outputs": []
    },
    {
      "cell_type": "code",
      "metadata": {
        "id": "uylalzvl6RUt",
        "outputId": "2711289a-6fd3-4aae-8857-5ba431fa3642",
        "colab": {
          "base_uri": "https://localhost:8080/",
          "height": 195
        }
      },
      "source": [
        "df = pd.read_csv('Iris.csv', error_bad_lines=False)\n",
        "df.head()"
      ],
      "execution_count": 99,
      "outputs": [
        {
          "output_type": "execute_result",
          "data": {
            "text/html": [
              "<div>\n",
              "<style scoped>\n",
              "    .dataframe tbody tr th:only-of-type {\n",
              "        vertical-align: middle;\n",
              "    }\n",
              "\n",
              "    .dataframe tbody tr th {\n",
              "        vertical-align: top;\n",
              "    }\n",
              "\n",
              "    .dataframe thead th {\n",
              "        text-align: right;\n",
              "    }\n",
              "</style>\n",
              "<table border=\"1\" class=\"dataframe\">\n",
              "  <thead>\n",
              "    <tr style=\"text-align: right;\">\n",
              "      <th></th>\n",
              "      <th>Id</th>\n",
              "      <th>SepalLengthCm</th>\n",
              "      <th>SepalWidthCm</th>\n",
              "      <th>PetalLengthCm</th>\n",
              "      <th>PetalWidthCm</th>\n",
              "      <th>Species</th>\n",
              "    </tr>\n",
              "  </thead>\n",
              "  <tbody>\n",
              "    <tr>\n",
              "      <th>0</th>\n",
              "      <td>1</td>\n",
              "      <td>5.1</td>\n",
              "      <td>3.5</td>\n",
              "      <td>1.4</td>\n",
              "      <td>0.2</td>\n",
              "      <td>Iris-setosa</td>\n",
              "    </tr>\n",
              "    <tr>\n",
              "      <th>1</th>\n",
              "      <td>2</td>\n",
              "      <td>4.9</td>\n",
              "      <td>3.0</td>\n",
              "      <td>1.4</td>\n",
              "      <td>0.2</td>\n",
              "      <td>Iris-setosa</td>\n",
              "    </tr>\n",
              "    <tr>\n",
              "      <th>2</th>\n",
              "      <td>3</td>\n",
              "      <td>4.7</td>\n",
              "      <td>3.2</td>\n",
              "      <td>1.3</td>\n",
              "      <td>0.2</td>\n",
              "      <td>Iris-setosa</td>\n",
              "    </tr>\n",
              "    <tr>\n",
              "      <th>3</th>\n",
              "      <td>4</td>\n",
              "      <td>4.6</td>\n",
              "      <td>3.1</td>\n",
              "      <td>1.5</td>\n",
              "      <td>0.2</td>\n",
              "      <td>Iris-setosa</td>\n",
              "    </tr>\n",
              "    <tr>\n",
              "      <th>4</th>\n",
              "      <td>5</td>\n",
              "      <td>5.0</td>\n",
              "      <td>3.6</td>\n",
              "      <td>1.4</td>\n",
              "      <td>0.2</td>\n",
              "      <td>Iris-setosa</td>\n",
              "    </tr>\n",
              "  </tbody>\n",
              "</table>\n",
              "</div>"
            ],
            "text/plain": [
              "   Id  SepalLengthCm  SepalWidthCm  PetalLengthCm  PetalWidthCm      Species\n",
              "0   1            5.1           3.5            1.4           0.2  Iris-setosa\n",
              "1   2            4.9           3.0            1.4           0.2  Iris-setosa\n",
              "2   3            4.7           3.2            1.3           0.2  Iris-setosa\n",
              "3   4            4.6           3.1            1.5           0.2  Iris-setosa\n",
              "4   5            5.0           3.6            1.4           0.2  Iris-setosa"
            ]
          },
          "metadata": {
            "tags": []
          },
          "execution_count": 99
        }
      ]
    },
    {
      "cell_type": "code",
      "metadata": {
        "id": "7h7NuvDW6d4O",
        "outputId": "25216774-b19e-49a8-b638-e18d66c2f5b9",
        "colab": {
          "base_uri": "https://localhost:8080/",
          "height": 235
        }
      },
      "source": [
        "df.info()"
      ],
      "execution_count": 100,
      "outputs": [
        {
          "output_type": "stream",
          "text": [
            "<class 'pandas.core.frame.DataFrame'>\n",
            "RangeIndex: 150 entries, 0 to 149\n",
            "Data columns (total 6 columns):\n",
            " #   Column         Non-Null Count  Dtype  \n",
            "---  ------         --------------  -----  \n",
            " 0   Id             150 non-null    int64  \n",
            " 1   SepalLengthCm  150 non-null    float64\n",
            " 2   SepalWidthCm   150 non-null    float64\n",
            " 3   PetalLengthCm  150 non-null    float64\n",
            " 4   PetalWidthCm   150 non-null    float64\n",
            " 5   Species        150 non-null    object \n",
            "dtypes: float64(4), int64(1), object(1)\n",
            "memory usage: 7.2+ KB\n"
          ],
          "name": "stdout"
        }
      ]
    },
    {
      "cell_type": "code",
      "metadata": {
        "id": "QmfJGiNI6jKP"
      },
      "source": [
        "df = df.drop(['Id'], axis=1)"
      ],
      "execution_count": 51,
      "outputs": []
    },
    {
      "cell_type": "code",
      "metadata": {
        "id": "4Od40wcm6l3C",
        "outputId": "6fe16260-1d54-44cf-879a-f19300e14561",
        "colab": {
          "base_uri": "https://localhost:8080/",
          "height": 34
        }
      },
      "source": [
        "df['Species'].unique()"
      ],
      "execution_count": 52,
      "outputs": [
        {
          "output_type": "execute_result",
          "data": {
            "text/plain": [
              "array(['Iris-setosa', 'Iris-versicolor', 'Iris-virginica'], dtype=object)"
            ]
          },
          "metadata": {
            "tags": []
          },
          "execution_count": 52
        }
      ]
    },
    {
      "cell_type": "code",
      "metadata": {
        "id": "6NAMINWl6ntH",
        "outputId": "032ed64e-6744-48b3-9463-6ad598268c35",
        "colab": {
          "base_uri": "https://localhost:8080/",
          "height": 34
        }
      },
      "source": [
        "df['Species'] = pd.factorize(df[\"Species\"])[0] \n",
        "Target = 'Species'\n",
        "df['Species'].unique()"
      ],
      "execution_count": 53,
      "outputs": [
        {
          "output_type": "execute_result",
          "data": {
            "text/plain": [
              "array([0, 1, 2])"
            ]
          },
          "metadata": {
            "tags": []
          },
          "execution_count": 53
        }
      ]
    },
    {
      "cell_type": "code",
      "metadata": {
        "id": "nU0a-3G_6sgf",
        "outputId": "eee9108d-0d50-421a-f9a2-e9246072d624",
        "colab": {
          "base_uri": "https://localhost:8080/",
          "height": 34
        }
      },
      "source": [
        "#Define Full Feature Set\n",
        "Features = ['SepalLengthCm', 'SepalWidthCm', 'PetalLengthCm', 'PetalWidthCm']\n",
        "print('Full Features: ', Features)"
      ],
      "execution_count": 54,
      "outputs": [
        {
          "output_type": "stream",
          "text": [
            "Full Features:  ['SepalLengthCm', 'SepalWidthCm', 'PetalLengthCm', 'PetalWidthCm']\n"
          ],
          "name": "stdout"
        }
      ]
    },
    {
      "cell_type": "code",
      "metadata": {
        "id": "0Do1yno863uG",
        "outputId": "2aed71c7-24da-428e-b477-0139e8a7ae56",
        "colab": {
          "base_uri": "https://localhost:8080/",
          "height": 84
        }
      },
      "source": [
        "\n",
        "# Feature Selection using Recursive Feature Elimination\n",
        "# Split Dataframe to target class and features\n",
        "X_fs = df[Features]\n",
        "Y_fs = df[Target]\n",
        "  \n",
        "# Feature Selection Model Fitting\n",
        "model = LogisticRegression(solver='lbfgs', multi_class='auto')\n",
        "\n",
        "#Mark the Number of Features to be selected, Adjust this Number to enhance the Model Performance\n",
        "rfe = RFE(model, 3) \n",
        "fit = rfe.fit(X_fs, Y_fs)\n",
        "\n",
        "print(\"Number of Features Selected : %s\" % (fit.n_features_))\n",
        "print(\"Feature Ranking             : %s\" % (fit.ranking_))\n",
        "print(\"Selected Features           : %s\" % (fit.support_))\n",
        "\n",
        "# At Current Point, the attributes is select manually based on Feature Selection Part. \n",
        "Features = ['SepalWidthCm', 'PetalLengthCm', 'PetalWidthCm']\n",
        "print(\"Selected Features           :\", Features)"
      ],
      "execution_count": 57,
      "outputs": [
        {
          "output_type": "stream",
          "text": [
            "Number of Features Selected : 3\n",
            "Feature Ranking             : [2 1 1 1]\n",
            "Selected Features           : [False  True  True  True]\n",
            "Selected Features           : ['SepalWidthCm', 'PetalLengthCm', 'PetalWidthCm']\n"
          ],
          "name": "stdout"
        }
      ]
    },
    {
      "cell_type": "code",
      "metadata": {
        "id": "MThz-Gpi7CFX",
        "outputId": "3643f9c7-1a94-4d00-a892-fa86a1532286",
        "colab": {
          "base_uri": "https://localhost:8080/",
          "height": 84
        }
      },
      "source": [
        "#Split dataset to Training Set & Test Set\n",
        "x, y = train_test_split(df, \n",
        "                        test_size = 0.6, \n",
        "                        train_size = 0.4, \n",
        "                        random_state= 3)\n",
        "\n",
        "x1 = x[Features]    #Features to train\n",
        "x2 = x[Target]      #Target Class to train\n",
        "y1 = y[Features]    #Features to test\n",
        "y2 = y[Target]      #Target Class to test\n",
        "\n",
        "print('Feature Set Used    : ', Features)\n",
        "print('Target Class        : ', Target)\n",
        "print('Training Set Size   : ', x.shape)\n",
        "print('Test Set Size       : ', y.shape)"
      ],
      "execution_count": 104,
      "outputs": [
        {
          "output_type": "stream",
          "text": [
            "Feature Set Used    :  ['SepalWidthCm', 'PetalLengthCm', 'PetalWidthCm']\n",
            "Target Class        :  Species\n",
            "Training Set Size   :  (60, 6)\n",
            "Test Set Size       :  (90, 6)\n"
          ],
          "name": "stdout"
        }
      ]
    },
    {
      "cell_type": "code",
      "metadata": {
        "id": "qz9itw3x7P0m"
      },
      "source": [
        "# Random Forest\n",
        "# Create Model with configuration\n",
        "rf_model = RandomForestClassifier(n_estimators=150, # Number of trees\n",
        "                                  min_samples_split = 30,\n",
        "                                  bootstrap = True, \n",
        "                                  max_depth = 50, \n",
        "                                  min_samples_leaf = 25)\n",
        "\n",
        "# Model Training\n",
        "rf_model.fit(X=x1,\n",
        "             y=x2)\n",
        "\n",
        "# Prediction\n",
        "result = rf_model.predict(y[Features])"
      ],
      "execution_count": 105,
      "outputs": []
    },
    {
      "cell_type": "code",
      "metadata": {
        "id": "fQqbWOqU7Tcz",
        "outputId": "40bfcc82-ea66-47e6-9378-f0255f743f44",
        "colab": {
          "base_uri": "https://localhost:8080/",
          "height": 121
        }
      },
      "source": [
        "# Model Evaluation\n",
        "ac_sc = accuracy_score(y2, result)\n",
        "rc_sc = recall_score(y2, result, average=\"weighted\")\n",
        "pr_sc = precision_score(y2, result, average=\"weighted\")\n",
        "\n",
        "\n",
        "print(\"Accuracy    : \", ac_sc)\n",
        "print(\"Recall      : \", rc_sc)\n",
        "print(\"Precision   : \", pr_sc)\n",
        "\n"
      ],
      "execution_count": 107,
      "outputs": [
        {
          "output_type": "stream",
          "text": [
            "Accuracy    :  0.3111111111111111\n",
            "Recall      :  0.3111111111111111\n",
            "Precision   :  0.09679012345679014\n"
          ],
          "name": "stdout"
        },
        {
          "output_type": "stream",
          "text": [
            "/usr/local/lib/python3.6/dist-packages/sklearn/metrics/_classification.py:1272: UndefinedMetricWarning: Precision is ill-defined and being set to 0.0 in labels with no predicted samples. Use `zero_division` parameter to control this behavior.\n",
            "  _warn_prf(average, modifier, msg_start, len(result))\n"
          ],
          "name": "stderr"
        }
      ]
    },
    {
      "cell_type": "code",
      "metadata": {
        "id": "cwPFQ6hkJ7m5",
        "outputId": "55e9fd4a-930b-4708-a635-053a0059b450",
        "colab": {
          "base_uri": "https://localhost:8080/",
          "height": 311
        }
      },
      "source": [
        "import seaborn as sns\n",
        "import matplotlib.pyplot as plt\n",
        "\n",
        "%matplotlib inline\n",
        "\n",
        "# Creating a bar plot\n",
        "sns.barplot(x=feature_imp, y=feature_imp.index)\n",
        "\n",
        "# Add labels to your graph\n",
        "plt.xlabel('Feature Importance Score')\n",
        "plt.ylabel('Features')\n",
        "plt.title(\"Visualizing Important Features\")\n",
        "plt.legend()\n",
        "plt.show()"
      ],
      "execution_count": 112,
      "outputs": [
        {
          "output_type": "stream",
          "text": [
            "No handles with labels found to put in legend.\n"
          ],
          "name": "stderr"
        },
        {
          "output_type": "display_data",
          "data": {
            "image/png": "[encoded data removed]",
            "text/plain": [
              "<Figure size 432x288 with 1 Axes>"
            ]
          },
          "metadata": {
            "tags": [],
            "needs_background": "light"
          }
        }
      ]
    }
  ]
}