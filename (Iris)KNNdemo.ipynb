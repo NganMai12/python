{
  "nbformat": 4,
  "nbformat_minor": 0,
  "metadata": {
    "kernelspec": {
      "display_name": "Python 3",
      "language": "python",
      "name": "python3"
    },
    "language_info": {
      "codemirror_mode": {
        "name": "ipython",
        "version": 3
      },
      "file_extension": ".py",
      "mimetype": "text/x-python",
      "name": "python",
      "nbconvert_exporter": "python",
      "pygments_lexer": "ipython3",
      "version": "3.8.3"
    },
    "colab": {
      "name": "KNN.ipynb",
      "provenance": [],
      "collapsed_sections": [],
      "toc_visible": true
    }
  },
  "cells": [
    {
      "cell_type": "markdown",
      "metadata": {
        "collapsed": true,
        "id": "hQWIgVvppzSL"
      },
      "source": [
        "# Iris DEMO \n"
      ]
    },
    {
      "cell_type": "code",
      "metadata": {
        "id": "yI1RNj-ApzSM"
      },
      "source": [
        "from __future__ import print_function \n",
        "import numpy as np\n",
        "from sklearn import neighbors, datasets\n",
        "from sklearn.model_selection import train_test_split\n",
        "from sklearn.metrics import accuracy_score"
      ],
      "execution_count": null,
      "outputs": []
    },
    {
      "cell_type": "code",
      "metadata": {
        "id": "JviiJeHipzSP",
        "outputId": "fae0f65b-e78e-45ce-e11b-d0df8e33b695"
      },
      "source": [
        "np.random.seed(7) \n",
        "iris = datasets.load_iris()\n",
        "iris_X = iris.data\n",
        "iris_y = iris.target\n",
        "print('Labels:', np.unique(iris_y))\n",
        "\n",
        "# split train and test \n",
        "X_train, X_test, y_train, y_test = train_test_split(\n",
        "     iris_X, iris_y, test_size=50)\n",
        "print('Train size:', X_train.shape[0], ', test size:', X_test.shape[0])"
      ],
      "execution_count": null,
      "outputs": [
        {
          "output_type": "stream",
          "text": [
            "Labels: [0 1 2]\n",
            "Train size: 100 , test size: 50\n"
          ],
          "name": "stdout"
        }
      ]
    },
    {
      "cell_type": "code",
      "metadata": {
        "id": "FvK9OIqnpzSS",
        "outputId": "2387b80b-8217-457e-e669-65c27327f6dd"
      },
      "source": [
        "# 1NN \n",
        "model = neighbors.KNeighborsClassifier(n_neighbors = 49, p = 2)\n",
        "model.fit(X_train, y_train)\n",
        "y_pred = model.predict(X_test)\n",
        "print(\"Accuracy of 1NN: %.2f %%\" %(100*accuracy_score(y_test, y_pred)))"
      ],
      "execution_count": null,
      "outputs": [
        {
          "output_type": "stream",
          "text": [
            "Accuracy of 1NN: 84.00 %\n"
          ],
          "name": "stdout"
        }
      ]
    },
    {
      "cell_type": "code",
      "metadata": {
        "id": "M5MMzNA7pzSU",
        "outputId": "3f1b0b5c-cf6f-4c32-d713-06a189c2f4a1"
      },
      "source": [
        "model = neighbors.KNeighborsClassifier(n_neighbors = 49, p = 2)\n",
        "model.fit(X_train, y_train)\n",
        "y_pred = model.predict(X_test)\n",
        "\n",
        "print(\"Accuracy of 7NN with major voting: %.2f %%\" %(100*accuracy_score(y_test, y_pred)))\n"
      ],
      "execution_count": null,
      "outputs": [
        {
          "output_type": "stream",
          "text": [
            "Accuracy of 7NN with major voting: 84.00 %\n"
          ],
          "name": "stdout"
        }
      ]
    },
    {
      "cell_type": "code",
      "metadata": {
        "id": "4nT7ZVoIpzSX",
        "outputId": "8239bf70-d5b2-4204-b112-a5f5431af503"
      },
      "source": [
        "model = neighbors.KNeighborsClassifier(n_neighbors = 7, p = 2, weights = 'distance')\n",
        "model.fit(X_train, y_train)\n",
        "y_pred = model.predict(X_test)\n",
        "\n",
        "print(\"Accuracy of 7NN (1/distance weights): %.2f %%\" %(100*accuracy_score(y_test, y_pred)))\n"
      ],
      "execution_count": null,
      "outputs": [
        {
          "output_type": "stream",
          "text": [
            "Accuracy of 7NN (1/distance weights): 94.62 %\n"
          ],
          "name": "stdout"
        }
      ]
    },
    {
      "cell_type": "code",
      "metadata": {
        "id": "rqu8OAQipzSZ",
        "outputId": "a97f8ed5-03be-42c7-fbb9-8447933f4786"
      },
      "source": [
        "def myweight(distances):\n",
        "    sigma2 = .4 # we can change this number\n",
        "    return np.exp(-distances**2/sigma2)\n",
        "\n",
        "model = neighbors.KNeighborsClassifier(n_neighbors = 7, p = 2, weights = myweight)\n",
        "model.fit(X_train, y_train)\n",
        "y_pred = model.predict(X_test)\n",
        "\n",
        "print(\"Accuracy of 7NN (customized weights): %.2f %%\" %(100*accuracy_score(y_test, y_pred)))"
      ],
      "execution_count": null,
      "outputs": [
        {
          "output_type": "stream",
          "text": [
            "Accuracy of 7NN (customized weights): 95.38 %\n"
          ],
          "name": "stdout"
        }
      ]
    },
    {
      "cell_type": "code",
      "metadata": {
        "id": "FftY6JQdpzSc"
      },
      "source": [
        ""
      ],
      "execution_count": null,
      "outputs": []
    }
  ]
}
